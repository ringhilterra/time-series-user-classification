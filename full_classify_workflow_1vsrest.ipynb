{
 "cells": [
  {
   "cell_type": "markdown",
   "metadata": {
    "toc-hr-collapsed": false
   },
   "source": [
    "## User Identification From Walking Activity  - Try 1 vs All classifier"
   ]
  },
  {
   "cell_type": "markdown",
   "metadata": {},
   "source": [
    "- Author: Ryan Inghilterra\n",
    "- Date: 4.29.21"
   ]
  },
  {
   "cell_type": "markdown",
   "metadata": {},
   "source": [
    "- Dataset: https://archive.ics.uci.edu/ml/datasets/User+Identification+From+Walking+Activity#"
   ]
  },
  {
   "cell_type": "markdown",
   "metadata": {},
   "source": [
    "**Prompt:** imagine you are working at a company that develops personalized health and lifestyle recommendations for users based on their activity patterns, which are recorded via a wearable device. Before giving recommendations, your manager asks you to assess the viability of the recommendation system by first seeing if you can identify users using only their accelerometer data. In this assignment, you will design and implement an experiment to answer this question. "
   ]
  },
  {
   "cell_type": "code",
   "execution_count": 1,
   "metadata": {},
   "outputs": [],
   "source": [
    "import pandas as pd\n",
    "import numpy as np\n",
    "import datetime as dt\n",
    "import warnings\n",
    "import os\n",
    "\n",
    "import matplotlib.pyplot as plt\n",
    "\n",
    "import plotly.graph_objects as go\n",
    "import plotly.express as px\n",
    "import plotly.offline as py\n",
    "\n",
    "from plotly.subplots import make_subplots\n",
    "\n",
    "from sklearn.ensemble import RandomForestClassifier\n",
    "from sklearn.model_selection import GridSearchCV, train_test_split\n",
    "from sklearn.neighbors import KNeighborsClassifier\n",
    "from sklearn.dummy import DummyClassifier\n",
    "from sklearn.metrics import (\n",
    "    make_scorer,\n",
    "    classification_report,\n",
    "    accuracy_score,\n",
    "    balanced_accuracy_score,\n",
    ")\n",
    "\n",
    "warnings.filterwarnings(action=\"once\")\n",
    "np.set_printoptions(suppress=True)\n",
    "pd.set_option(\"display.float_format\", lambda x: \"%.5f\" % x)\n",
    "pd.options.display.max_rows = 500\n",
    "pd.options.display.max_columns = 500\n",
    "\n",
    "%matplotlib inline"
   ]
  },
  {
   "cell_type": "code",
   "execution_count": 2,
   "metadata": {},
   "outputs": [
    {
     "name": "stdout",
     "output_type": "stream",
     "text": [
      "07_14_2021\n"
     ]
    }
   ],
   "source": [
    "date = dt.datetime.today().strftime(\"%m_%d_%Y\")\n",
    "print(date)"
   ]
  },
  {
   "cell_type": "markdown",
   "metadata": {},
   "source": [
    "train and test already split from previous notebook export"
   ]
  },
  {
   "cell_type": "code",
   "execution_count": 9,
   "metadata": {},
   "outputs": [],
   "source": [
    "train_df = pd.read_csv(\"user_ident_class_train.csv\")"
   ]
  },
  {
   "cell_type": "code",
   "execution_count": 10,
   "metadata": {},
   "outputs": [
    {
     "data": {
      "text/html": [
       "<div>\n",
       "<style scoped>\n",
       "    .dataframe tbody tr th:only-of-type {\n",
       "        vertical-align: middle;\n",
       "    }\n",
       "\n",
       "    .dataframe tbody tr th {\n",
       "        vertical-align: top;\n",
       "    }\n",
       "\n",
       "    .dataframe thead th {\n",
       "        text-align: right;\n",
       "    }\n",
       "</style>\n",
       "<table border=\"1\" class=\"dataframe\">\n",
       "  <thead>\n",
       "    <tr style=\"text-align: right;\">\n",
       "      <th></th>\n",
       "      <th>time_step</th>\n",
       "      <th>x_accel</th>\n",
       "      <th>y_accel</th>\n",
       "      <th>z_accel</th>\n",
       "      <th>user_id</th>\n",
       "    </tr>\n",
       "  </thead>\n",
       "  <tbody>\n",
       "    <tr>\n",
       "      <th>count</th>\n",
       "      <td>104532.00000</td>\n",
       "      <td>104532.00000</td>\n",
       "      <td>104532.00000</td>\n",
       "      <td>104532.00000</td>\n",
       "      <td>104532.00000</td>\n",
       "    </tr>\n",
       "    <tr>\n",
       "      <th>mean</th>\n",
       "      <td>130.04721</td>\n",
       "      <td>-1.71654</td>\n",
       "      <td>8.82758</td>\n",
       "      <td>0.49362</td>\n",
       "      <td>13.89742</td>\n",
       "    </tr>\n",
       "    <tr>\n",
       "      <th>std</th>\n",
       "      <td>117.01097</td>\n",
       "      <td>2.87894</td>\n",
       "      <td>2.82310</td>\n",
       "      <td>3.07268</td>\n",
       "      <td>5.92140</td>\n",
       "    </tr>\n",
       "    <tr>\n",
       "      <th>min</th>\n",
       "      <td>0.00000</td>\n",
       "      <td>-19.57200</td>\n",
       "      <td>-9.61600</td>\n",
       "      <td>-14.98200</td>\n",
       "      <td>1.00000</td>\n",
       "    </tr>\n",
       "    <tr>\n",
       "      <th>25%</th>\n",
       "      <td>39.78000</td>\n",
       "      <td>-3.25530</td>\n",
       "      <td>7.27330</td>\n",
       "      <td>-1.22580</td>\n",
       "      <td>9.00000</td>\n",
       "    </tr>\n",
       "    <tr>\n",
       "      <th>50%</th>\n",
       "      <td>89.30100</td>\n",
       "      <td>-1.37570</td>\n",
       "      <td>8.89410</td>\n",
       "      <td>-0.08172</td>\n",
       "      <td>16.00000</td>\n",
       "    </tr>\n",
       "    <tr>\n",
       "      <th>75%</th>\n",
       "      <td>192.47250</td>\n",
       "      <td>-0.04086</td>\n",
       "      <td>10.37900</td>\n",
       "      <td>1.45740</td>\n",
       "      <td>18.00000</td>\n",
       "    </tr>\n",
       "    <tr>\n",
       "      <th>max</th>\n",
       "      <td>474.50000</td>\n",
       "      <td>15.89500</td>\n",
       "      <td>19.57200</td>\n",
       "      <td>19.34100</td>\n",
       "      <td>22.00000</td>\n",
       "    </tr>\n",
       "  </tbody>\n",
       "</table>\n",
       "</div>"
      ],
      "text/plain": [
       "         time_step      x_accel      y_accel      z_accel      user_id\n",
       "count 104532.00000 104532.00000 104532.00000 104532.00000 104532.00000\n",
       "mean     130.04721     -1.71654      8.82758      0.49362     13.89742\n",
       "std      117.01097      2.87894      2.82310      3.07268      5.92140\n",
       "min        0.00000    -19.57200     -9.61600    -14.98200      1.00000\n",
       "25%       39.78000     -3.25530      7.27330     -1.22580      9.00000\n",
       "50%       89.30100     -1.37570      8.89410     -0.08172     16.00000\n",
       "75%      192.47250     -0.04086     10.37900      1.45740     18.00000\n",
       "max      474.50000     15.89500     19.57200     19.34100     22.00000"
      ]
     },
     "execution_count": 10,
     "metadata": {},
     "output_type": "execute_result"
    }
   ],
   "source": [
    "train_df.describe()"
   ]
  },
  {
   "cell_type": "code",
   "execution_count": 11,
   "metadata": {},
   "outputs": [],
   "source": [
    "test_df = pd.read_csv(\"user_ident_class_test.csv\")"
   ]
  },
  {
   "cell_type": "code",
   "execution_count": 12,
   "metadata": {},
   "outputs": [
    {
     "data": {
      "text/html": [
       "<div>\n",
       "<style scoped>\n",
       "    .dataframe tbody tr th:only-of-type {\n",
       "        vertical-align: middle;\n",
       "    }\n",
       "\n",
       "    .dataframe tbody tr th {\n",
       "        vertical-align: top;\n",
       "    }\n",
       "\n",
       "    .dataframe thead th {\n",
       "        text-align: right;\n",
       "    }\n",
       "</style>\n",
       "<table border=\"1\" class=\"dataframe\">\n",
       "  <thead>\n",
       "    <tr style=\"text-align: right;\">\n",
       "      <th></th>\n",
       "      <th>time_step</th>\n",
       "      <th>x_accel</th>\n",
       "      <th>y_accel</th>\n",
       "      <th>z_accel</th>\n",
       "      <th>user_id</th>\n",
       "    </tr>\n",
       "  </thead>\n",
       "  <tbody>\n",
       "    <tr>\n",
       "      <th>count</th>\n",
       "      <td>44800.00000</td>\n",
       "      <td>44800.00000</td>\n",
       "      <td>44800.00000</td>\n",
       "      <td>44800.00000</td>\n",
       "      <td>44800.00000</td>\n",
       "    </tr>\n",
       "    <tr>\n",
       "      <th>mean</th>\n",
       "      <td>315.08790</td>\n",
       "      <td>-1.51250</td>\n",
       "      <td>8.63360</td>\n",
       "      <td>0.70014</td>\n",
       "      <td>13.89701</td>\n",
       "    </tr>\n",
       "    <tr>\n",
       "      <th>std</th>\n",
       "      <td>192.94463</td>\n",
       "      <td>2.83375</td>\n",
       "      <td>2.64481</td>\n",
       "      <td>3.31144</td>\n",
       "      <td>5.92163</td>\n",
       "    </tr>\n",
       "    <tr>\n",
       "      <th>min</th>\n",
       "      <td>20.31000</td>\n",
       "      <td>-17.73400</td>\n",
       "      <td>-10.92400</td>\n",
       "      <td>-12.55800</td>\n",
       "      <td>1.00000</td>\n",
       "    </tr>\n",
       "    <tr>\n",
       "      <th>25%</th>\n",
       "      <td>136.94000</td>\n",
       "      <td>-2.83300</td>\n",
       "      <td>6.89190</td>\n",
       "      <td>-1.26670</td>\n",
       "      <td>9.00000</td>\n",
       "    </tr>\n",
       "    <tr>\n",
       "      <th>50%</th>\n",
       "      <td>269.72500</td>\n",
       "      <td>-1.14410</td>\n",
       "      <td>8.68980</td>\n",
       "      <td>-0.04086</td>\n",
       "      <td>16.00000</td>\n",
       "    </tr>\n",
       "    <tr>\n",
       "      <th>75%</th>\n",
       "      <td>498.20000</td>\n",
       "      <td>-0.00000</td>\n",
       "      <td>10.14700</td>\n",
       "      <td>1.68890</td>\n",
       "      <td>18.00000</td>\n",
       "    </tr>\n",
       "    <tr>\n",
       "      <th>max</th>\n",
       "      <td>676.68000</td>\n",
       "      <td>19.31400</td>\n",
       "      <td>19.42300</td>\n",
       "      <td>19.34100</td>\n",
       "      <td>22.00000</td>\n",
       "    </tr>\n",
       "  </tbody>\n",
       "</table>\n",
       "</div>"
      ],
      "text/plain": [
       "        time_step     x_accel     y_accel     z_accel     user_id\n",
       "count 44800.00000 44800.00000 44800.00000 44800.00000 44800.00000\n",
       "mean    315.08790    -1.51250     8.63360     0.70014    13.89701\n",
       "std     192.94463     2.83375     2.64481     3.31144     5.92163\n",
       "min      20.31000   -17.73400   -10.92400   -12.55800     1.00000\n",
       "25%     136.94000    -2.83300     6.89190    -1.26670     9.00000\n",
       "50%     269.72500    -1.14410     8.68980    -0.04086    16.00000\n",
       "75%     498.20000    -0.00000    10.14700     1.68890    18.00000\n",
       "max     676.68000    19.31400    19.42300    19.34100    22.00000"
      ]
     },
     "execution_count": 12,
     "metadata": {},
     "output_type": "execute_result"
    }
   ],
   "source": [
    "test_df.describe()"
   ]
  },
  {
   "cell_type": "code",
   "execution_count": 13,
   "metadata": {},
   "outputs": [
    {
     "name": "stdout",
     "output_type": "stream",
     "text": [
      "(104532, 5) (44800, 5)\n"
     ]
    }
   ],
   "source": [
    "print(train_df.shape, test_df.shape)"
   ]
  },
  {
   "cell_type": "markdown",
   "metadata": {
    "toc-hr-collapsed": false
   },
   "source": [
    "### Feature Engineering and EDA"
   ]
  },
  {
   "cell_type": "markdown",
   "metadata": {},
   "source": [
    "#### Time Step Difff"
   ]
  },
  {
   "cell_type": "markdown",
   "metadata": {},
   "source": [
    "combine time_diff between each step, since small dataset and limited time, do basic for look per user"
   ]
  },
  {
   "cell_type": "code",
   "execution_count": 16,
   "metadata": {},
   "outputs": [],
   "source": [
    "def time_step_calc_df(df):\n",
    "\n",
    "    all_df_list = []\n",
    "    for user_id in sorted(df.user_id.unique()):\n",
    "        adf = df[df[\"user_id\"] == user_id].reset_index(drop=True)\n",
    "        # get previous time_step values\n",
    "        shift_time_step = adf[\"time_step\"].shift(1)\n",
    "        # create new column with prev time step values\n",
    "        adf[\"prev_time_step\"] = shift_time_step\n",
    "        # the first row will be null since no previous value, so fill 0\n",
    "        adf[\"prev_time_step\"] = adf[\"prev_time_step\"].fillna(0)\n",
    "        # calc diff\n",
    "        adf[\"time_step_diff\"] = adf[\"time_step\"] - adf[\"prev_time_step\"]\n",
    "        all_df_list.append(adf)\n",
    "\n",
    "    all_df = pd.concat(all_df_list)\n",
    "    print(all_df.shape)\n",
    "    return all_df"
   ]
  },
  {
   "cell_type": "code",
   "execution_count": 17,
   "metadata": {},
   "outputs": [
    {
     "name": "stdout",
     "output_type": "stream",
     "text": [
      "(104532, 7)\n"
     ]
    },
    {
     "data": {
      "text/html": [
       "<div>\n",
       "<style scoped>\n",
       "    .dataframe tbody tr th:only-of-type {\n",
       "        vertical-align: middle;\n",
       "    }\n",
       "\n",
       "    .dataframe tbody tr th {\n",
       "        vertical-align: top;\n",
       "    }\n",
       "\n",
       "    .dataframe thead th {\n",
       "        text-align: right;\n",
       "    }\n",
       "</style>\n",
       "<table border=\"1\" class=\"dataframe\">\n",
       "  <thead>\n",
       "    <tr style=\"text-align: right;\">\n",
       "      <th></th>\n",
       "      <th>time_step</th>\n",
       "      <th>x_accel</th>\n",
       "      <th>y_accel</th>\n",
       "      <th>z_accel</th>\n",
       "      <th>user_id</th>\n",
       "      <th>prev_time_step</th>\n",
       "      <th>time_step_diff</th>\n",
       "    </tr>\n",
       "  </thead>\n",
       "  <tbody>\n",
       "    <tr>\n",
       "      <th>0</th>\n",
       "      <td>0.00000</td>\n",
       "      <td>0.69464</td>\n",
       "      <td>3.17350</td>\n",
       "      <td>7.50480</td>\n",
       "      <td>1</td>\n",
       "      <td>0.00000</td>\n",
       "      <td>0.00000</td>\n",
       "    </tr>\n",
       "    <tr>\n",
       "      <th>1</th>\n",
       "      <td>0.03064</td>\n",
       "      <td>0.14982</td>\n",
       "      <td>3.48680</td>\n",
       "      <td>9.27550</td>\n",
       "      <td>1</td>\n",
       "      <td>0.00000</td>\n",
       "      <td>0.03064</td>\n",
       "    </tr>\n",
       "  </tbody>\n",
       "</table>\n",
       "</div>"
      ],
      "text/plain": [
       "   time_step  x_accel  y_accel  z_accel  user_id  prev_time_step  \\\n",
       "0    0.00000  0.69464  3.17350  7.50480        1         0.00000   \n",
       "1    0.03064  0.14982  3.48680  9.27550        1         0.00000   \n",
       "\n",
       "   time_step_diff  \n",
       "0         0.00000  \n",
       "1         0.03064  "
      ]
     },
     "execution_count": 17,
     "metadata": {},
     "output_type": "execute_result"
    }
   ],
   "source": [
    "train_df = time_step_calc_df(train_df)\n",
    "train_df.head(2)"
   ]
  },
  {
   "cell_type": "code",
   "execution_count": 18,
   "metadata": {},
   "outputs": [
    {
     "name": "stdout",
     "output_type": "stream",
     "text": [
      "(44800, 7)\n"
     ]
    },
    {
     "data": {
      "text/html": [
       "<div>\n",
       "<style scoped>\n",
       "    .dataframe tbody tr th:only-of-type {\n",
       "        vertical-align: middle;\n",
       "    }\n",
       "\n",
       "    .dataframe tbody tr th {\n",
       "        vertical-align: top;\n",
       "    }\n",
       "\n",
       "    .dataframe thead th {\n",
       "        text-align: right;\n",
       "    }\n",
       "</style>\n",
       "<table border=\"1\" class=\"dataframe\">\n",
       "  <thead>\n",
       "    <tr style=\"text-align: right;\">\n",
       "      <th></th>\n",
       "      <th>time_step</th>\n",
       "      <th>x_accel</th>\n",
       "      <th>y_accel</th>\n",
       "      <th>z_accel</th>\n",
       "      <th>user_id</th>\n",
       "      <th>prev_time_step</th>\n",
       "      <th>time_step_diff</th>\n",
       "    </tr>\n",
       "  </thead>\n",
       "  <tbody>\n",
       "    <tr>\n",
       "      <th>0</th>\n",
       "      <td>107.38000</td>\n",
       "      <td>-4.98500</td>\n",
       "      <td>10.18800</td>\n",
       "      <td>-2.83300</td>\n",
       "      <td>1</td>\n",
       "      <td>0.00000</td>\n",
       "      <td>107.38000</td>\n",
       "    </tr>\n",
       "    <tr>\n",
       "      <th>1</th>\n",
       "      <td>107.41000</td>\n",
       "      <td>-3.97710</td>\n",
       "      <td>8.28120</td>\n",
       "      <td>-3.44590</td>\n",
       "      <td>1</td>\n",
       "      <td>107.38000</td>\n",
       "      <td>0.03000</td>\n",
       "    </tr>\n",
       "  </tbody>\n",
       "</table>\n",
       "</div>"
      ],
      "text/plain": [
       "   time_step  x_accel  y_accel  z_accel  user_id  prev_time_step  \\\n",
       "0  107.38000 -4.98500 10.18800 -2.83300        1         0.00000   \n",
       "1  107.41000 -3.97710  8.28120 -3.44590        1       107.38000   \n",
       "\n",
       "   time_step_diff  \n",
       "0       107.38000  \n",
       "1         0.03000  "
      ]
     },
     "execution_count": 18,
     "metadata": {},
     "output_type": "execute_result"
    }
   ],
   "source": [
    "test_df = time_step_calc_df(test_df)\n",
    "test_df.head(2)"
   ]
  },
  {
   "cell_type": "markdown",
   "metadata": {},
   "source": [
    "#### Resultant Vector"
   ]
  },
  {
   "cell_type": "markdown",
   "metadata": {},
   "source": [
    "Want to combine x,y,z acceleration together into single number, could be useful feature"
   ]
  },
  {
   "cell_type": "code",
   "execution_count": 19,
   "metadata": {},
   "outputs": [],
   "source": [
    "def res_vector_calc_row(row):\n",
    "    x = row[\"x_accel\"]\n",
    "    y = row[\"y_accel\"]\n",
    "    z = row[\"z_accel\"]\n",
    "    res = res_vector_calc(x, y, z)\n",
    "    return res\n",
    "\n",
    "\n",
    "def res_vector_calc(x, y, z):\n",
    "    res = np.sqrt(x ** 2 + y ** 2 + z ** 2)\n",
    "    return res"
   ]
  },
  {
   "cell_type": "code",
   "execution_count": 20,
   "metadata": {},
   "outputs": [],
   "source": [
    "train_df[\"res_vector\"] = train_df.apply(lambda row: res_vector_calc_row(row), axis=1)\n",
    "test_df[\"res_vector\"] = test_df.apply(lambda row: res_vector_calc_row(row), axis=1)"
   ]
  },
  {
   "cell_type": "code",
   "execution_count": 21,
   "metadata": {},
   "outputs": [
    {
     "data": {
      "text/html": [
       "<div>\n",
       "<style scoped>\n",
       "    .dataframe tbody tr th:only-of-type {\n",
       "        vertical-align: middle;\n",
       "    }\n",
       "\n",
       "    .dataframe tbody tr th {\n",
       "        vertical-align: top;\n",
       "    }\n",
       "\n",
       "    .dataframe thead th {\n",
       "        text-align: right;\n",
       "    }\n",
       "</style>\n",
       "<table border=\"1\" class=\"dataframe\">\n",
       "  <thead>\n",
       "    <tr style=\"text-align: right;\">\n",
       "      <th></th>\n",
       "      <th>time_step</th>\n",
       "      <th>x_accel</th>\n",
       "      <th>y_accel</th>\n",
       "      <th>z_accel</th>\n",
       "      <th>user_id</th>\n",
       "      <th>prev_time_step</th>\n",
       "      <th>time_step_diff</th>\n",
       "      <th>res_vector</th>\n",
       "    </tr>\n",
       "  </thead>\n",
       "  <tbody>\n",
       "    <tr>\n",
       "      <th>0</th>\n",
       "      <td>0.00000</td>\n",
       "      <td>0.69464</td>\n",
       "      <td>3.17350</td>\n",
       "      <td>7.50480</td>\n",
       "      <td>1</td>\n",
       "      <td>0.00000</td>\n",
       "      <td>0.00000</td>\n",
       "      <td>8.17775</td>\n",
       "    </tr>\n",
       "    <tr>\n",
       "      <th>1</th>\n",
       "      <td>0.03064</td>\n",
       "      <td>0.14982</td>\n",
       "      <td>3.48680</td>\n",
       "      <td>9.27550</td>\n",
       "      <td>1</td>\n",
       "      <td>0.00000</td>\n",
       "      <td>0.03064</td>\n",
       "      <td>9.91035</td>\n",
       "    </tr>\n",
       "  </tbody>\n",
       "</table>\n",
       "</div>"
      ],
      "text/plain": [
       "   time_step  x_accel  y_accel  z_accel  user_id  prev_time_step  \\\n",
       "0    0.00000  0.69464  3.17350  7.50480        1         0.00000   \n",
       "1    0.03064  0.14982  3.48680  9.27550        1         0.00000   \n",
       "\n",
       "   time_step_diff  res_vector  \n",
       "0         0.00000     8.17775  \n",
       "1         0.03064     9.91035  "
      ]
     },
     "execution_count": 21,
     "metadata": {},
     "output_type": "execute_result"
    }
   ],
   "source": [
    "train_df.head(2)"
   ]
  },
  {
   "cell_type": "markdown",
   "metadata": {},
   "source": [
    "#### Window and Lag Feature Engineering"
   ]
  },
  {
   "cell_type": "markdown",
   "metadata": {},
   "source": [
    "for modeling with this type of time series classification we need to transform our data into a format where each row represents a window. So each row window will have the summary statistics of the window as features (columns), and each lag feature as a column, which are precisely all the values within the window that window sequential order."
   ]
  },
  {
   "cell_type": "code",
   "execution_count": 22,
   "metadata": {},
   "outputs": [],
   "source": [
    "def get_window_feat_df(df, window_size):\n",
    "    adf = df.copy()\n",
    "    # lag should be (window size - 1) since window includes current\n",
    "    lags = list(range(1, window_size))\n",
    "    lag_cols = [\"x_accel\", \"y_accel\", \"z_accel\", \"res_vector\"]\n",
    "    for lag_col in lag_cols:\n",
    "        for lag in lags:\n",
    "            adf = add_lag_cols(adf, lag, lag_col)\n",
    "\n",
    "    window_cols = [\"x_accel\", \"y_accel\", \"z_accel\", \"res_vector\", \"time_step_diff\"]\n",
    "    for window_col in window_cols:\n",
    "        adf = add_roll_window_mean_std(adf, window_size, window_col)\n",
    "\n",
    "    # remove nulls\n",
    "    adf = adf.dropna()\n",
    "    return adf"
   ]
  },
  {
   "cell_type": "code",
   "execution_count": 23,
   "metadata": {},
   "outputs": [],
   "source": [
    "def add_lag_cols(df, lag_num, col):\n",
    "    df_list = []\n",
    "    for user_id in sorted(df.user_id.unique()):\n",
    "        adf = df[df[\"user_id\"] == user_id].reset_index(drop=True)\n",
    "        # get previous time_step values\n",
    "        lag_col = adf[col].shift(lag_num)\n",
    "        # create new column\n",
    "        lag_col_name = \"{0}_lag{1}\".format(col, lag_num)\n",
    "        adf[lag_col_name] = lag_col\n",
    "        df_list.append(adf)\n",
    "\n",
    "    fdf = pd.concat(df_list)\n",
    "    return fdf"
   ]
  },
  {
   "cell_type": "code",
   "execution_count": 24,
   "metadata": {},
   "outputs": [],
   "source": [
    "def add_roll_window_mean_std(df, window_size, col):\n",
    "    df_list = []\n",
    "    for user_id in sorted(df.user_id.unique()):\n",
    "        adf = df[df[\"user_id\"] == user_id].reset_index(drop=True)\n",
    "        window = adf[col].rolling(window=window_size)\n",
    "        wmean_col = window.mean()\n",
    "        wstd_col = window.std()\n",
    "        mean_col_name = \"{0}_rwindow{1}_mean\".format(col, window_size)\n",
    "        std_col_name = \"{0}_rwindow{1}_std\".format(col, window_size)\n",
    "        adf[mean_col_name] = wmean_col\n",
    "        adf[std_col_name] = wstd_col\n",
    "        df_list.append(adf)\n",
    "\n",
    "    fdf = pd.concat(df_list)\n",
    "    return fdf"
   ]
  },
  {
   "cell_type": "code",
   "execution_count": 25,
   "metadata": {},
   "outputs": [],
   "source": [
    "w2_train_df = get_window_feat_df(train_df, 2)\n",
    "w5_train_df = get_window_feat_df(train_df, 5)\n",
    "w10_train_df = get_window_feat_df(train_df, 10)\n",
    "w25_train_df = get_window_feat_df(train_df, 25)\n",
    "\n",
    "w2_test_df = get_window_feat_df(test_df, 2)\n",
    "w5_test_df = get_window_feat_df(test_df, 5)\n",
    "w10_test_df = get_window_feat_df(test_df, 10)\n",
    "w25_test_df = get_window_feat_df(test_df, 25)"
   ]
  },
  {
   "cell_type": "code",
   "execution_count": 26,
   "metadata": {},
   "outputs": [],
   "source": [
    "w50_train_df = get_window_feat_df(train_df, 50)\n",
    "w50_test_df = get_window_feat_df(test_df, 50)"
   ]
  },
  {
   "cell_type": "code",
   "execution_count": 27,
   "metadata": {},
   "outputs": [
    {
     "data": {
      "text/html": [
       "<div>\n",
       "<style scoped>\n",
       "    .dataframe tbody tr th:only-of-type {\n",
       "        vertical-align: middle;\n",
       "    }\n",
       "\n",
       "    .dataframe tbody tr th {\n",
       "        vertical-align: top;\n",
       "    }\n",
       "\n",
       "    .dataframe thead th {\n",
       "        text-align: right;\n",
       "    }\n",
       "</style>\n",
       "<table border=\"1\" class=\"dataframe\">\n",
       "  <thead>\n",
       "    <tr style=\"text-align: right;\">\n",
       "      <th></th>\n",
       "      <th>time_step</th>\n",
       "      <th>x_accel</th>\n",
       "      <th>y_accel</th>\n",
       "      <th>z_accel</th>\n",
       "      <th>user_id</th>\n",
       "      <th>prev_time_step</th>\n",
       "      <th>time_step_diff</th>\n",
       "      <th>res_vector</th>\n",
       "      <th>x_accel_lag1</th>\n",
       "      <th>y_accel_lag1</th>\n",
       "      <th>z_accel_lag1</th>\n",
       "      <th>res_vector_lag1</th>\n",
       "      <th>x_accel_rwindow2_mean</th>\n",
       "      <th>x_accel_rwindow2_std</th>\n",
       "      <th>y_accel_rwindow2_mean</th>\n",
       "      <th>y_accel_rwindow2_std</th>\n",
       "      <th>z_accel_rwindow2_mean</th>\n",
       "      <th>z_accel_rwindow2_std</th>\n",
       "      <th>res_vector_rwindow2_mean</th>\n",
       "      <th>res_vector_rwindow2_std</th>\n",
       "      <th>time_step_diff_rwindow2_mean</th>\n",
       "      <th>time_step_diff_rwindow2_std</th>\n",
       "    </tr>\n",
       "  </thead>\n",
       "  <tbody>\n",
       "    <tr>\n",
       "      <th>1</th>\n",
       "      <td>107.41000</td>\n",
       "      <td>-3.97710</td>\n",
       "      <td>8.28120</td>\n",
       "      <td>-3.44590</td>\n",
       "      <td>1</td>\n",
       "      <td>107.38000</td>\n",
       "      <td>0.03000</td>\n",
       "      <td>9.81172</td>\n",
       "      <td>-4.98500</td>\n",
       "      <td>10.18800</td>\n",
       "      <td>-2.83300</td>\n",
       "      <td>11.69066</td>\n",
       "      <td>-4.48105</td>\n",
       "      <td>0.71269</td>\n",
       "      <td>9.23460</td>\n",
       "      <td>1.34831</td>\n",
       "      <td>-3.13945</td>\n",
       "      <td>0.43339</td>\n",
       "      <td>10.75119</td>\n",
       "      <td>1.32861</td>\n",
       "      <td>53.70500</td>\n",
       "      <td>75.90791</td>\n",
       "    </tr>\n",
       "    <tr>\n",
       "      <th>2</th>\n",
       "      <td>107.44000</td>\n",
       "      <td>-5.85670</td>\n",
       "      <td>8.92130</td>\n",
       "      <td>-4.63090</td>\n",
       "      <td>1</td>\n",
       "      <td>107.41000</td>\n",
       "      <td>0.03000</td>\n",
       "      <td>11.63339</td>\n",
       "      <td>-3.97710</td>\n",
       "      <td>8.28120</td>\n",
       "      <td>-3.44590</td>\n",
       "      <td>9.81172</td>\n",
       "      <td>-4.91690</td>\n",
       "      <td>1.32908</td>\n",
       "      <td>8.60125</td>\n",
       "      <td>0.45262</td>\n",
       "      <td>-4.03840</td>\n",
       "      <td>0.83792</td>\n",
       "      <td>10.72255</td>\n",
       "      <td>1.28812</td>\n",
       "      <td>0.03000</td>\n",
       "      <td>0.00000</td>\n",
       "    </tr>\n",
       "    <tr>\n",
       "      <th>3</th>\n",
       "      <td>107.47000</td>\n",
       "      <td>-7.77720</td>\n",
       "      <td>9.65680</td>\n",
       "      <td>-4.48110</td>\n",
       "      <td>1</td>\n",
       "      <td>107.44000</td>\n",
       "      <td>0.03000</td>\n",
       "      <td>13.18404</td>\n",
       "      <td>-5.85670</td>\n",
       "      <td>8.92130</td>\n",
       "      <td>-4.63090</td>\n",
       "      <td>11.63339</td>\n",
       "      <td>-6.81695</td>\n",
       "      <td>1.35800</td>\n",
       "      <td>9.28905</td>\n",
       "      <td>0.52008</td>\n",
       "      <td>-4.55600</td>\n",
       "      <td>0.10592</td>\n",
       "      <td>12.40871</td>\n",
       "      <td>1.09647</td>\n",
       "      <td>0.03000</td>\n",
       "      <td>0.00000</td>\n",
       "    </tr>\n",
       "    <tr>\n",
       "      <th>4</th>\n",
       "      <td>107.50000</td>\n",
       "      <td>-6.85100</td>\n",
       "      <td>8.11770</td>\n",
       "      <td>-3.44590</td>\n",
       "      <td>1</td>\n",
       "      <td>107.47000</td>\n",
       "      <td>0.03000</td>\n",
       "      <td>11.16725</td>\n",
       "      <td>-7.77720</td>\n",
       "      <td>9.65680</td>\n",
       "      <td>-4.48110</td>\n",
       "      <td>13.18404</td>\n",
       "      <td>-7.31410</td>\n",
       "      <td>0.65492</td>\n",
       "      <td>8.88725</td>\n",
       "      <td>1.08831</td>\n",
       "      <td>-3.96350</td>\n",
       "      <td>0.73200</td>\n",
       "      <td>12.17564</td>\n",
       "      <td>1.42608</td>\n",
       "      <td>0.03000</td>\n",
       "      <td>0.00000</td>\n",
       "    </tr>\n",
       "    <tr>\n",
       "      <th>5</th>\n",
       "      <td>107.53000</td>\n",
       "      <td>-2.87390</td>\n",
       "      <td>6.70120</td>\n",
       "      <td>-1.52550</td>\n",
       "      <td>1</td>\n",
       "      <td>107.50000</td>\n",
       "      <td>0.03000</td>\n",
       "      <td>7.44933</td>\n",
       "      <td>-6.85100</td>\n",
       "      <td>8.11770</td>\n",
       "      <td>-3.44590</td>\n",
       "      <td>11.16725</td>\n",
       "      <td>-4.86245</td>\n",
       "      <td>2.81223</td>\n",
       "      <td>7.40945</td>\n",
       "      <td>1.00162</td>\n",
       "      <td>-2.48570</td>\n",
       "      <td>1.35793</td>\n",
       "      <td>9.30829</td>\n",
       "      <td>2.62897</td>\n",
       "      <td>0.03000</td>\n",
       "      <td>0.00000</td>\n",
       "    </tr>\n",
       "  </tbody>\n",
       "</table>\n",
       "</div>"
      ],
      "text/plain": [
       "   time_step  x_accel  y_accel  z_accel  user_id  prev_time_step  \\\n",
       "1  107.41000 -3.97710  8.28120 -3.44590        1       107.38000   \n",
       "2  107.44000 -5.85670  8.92130 -4.63090        1       107.41000   \n",
       "3  107.47000 -7.77720  9.65680 -4.48110        1       107.44000   \n",
       "4  107.50000 -6.85100  8.11770 -3.44590        1       107.47000   \n",
       "5  107.53000 -2.87390  6.70120 -1.52550        1       107.50000   \n",
       "\n",
       "   time_step_diff  res_vector  x_accel_lag1  y_accel_lag1  z_accel_lag1  \\\n",
       "1         0.03000     9.81172      -4.98500      10.18800      -2.83300   \n",
       "2         0.03000    11.63339      -3.97710       8.28120      -3.44590   \n",
       "3         0.03000    13.18404      -5.85670       8.92130      -4.63090   \n",
       "4         0.03000    11.16725      -7.77720       9.65680      -4.48110   \n",
       "5         0.03000     7.44933      -6.85100       8.11770      -3.44590   \n",
       "\n",
       "   res_vector_lag1  x_accel_rwindow2_mean  x_accel_rwindow2_std  \\\n",
       "1         11.69066               -4.48105               0.71269   \n",
       "2          9.81172               -4.91690               1.32908   \n",
       "3         11.63339               -6.81695               1.35800   \n",
       "4         13.18404               -7.31410               0.65492   \n",
       "5         11.16725               -4.86245               2.81223   \n",
       "\n",
       "   y_accel_rwindow2_mean  y_accel_rwindow2_std  z_accel_rwindow2_mean  \\\n",
       "1                9.23460               1.34831               -3.13945   \n",
       "2                8.60125               0.45262               -4.03840   \n",
       "3                9.28905               0.52008               -4.55600   \n",
       "4                8.88725               1.08831               -3.96350   \n",
       "5                7.40945               1.00162               -2.48570   \n",
       "\n",
       "   z_accel_rwindow2_std  res_vector_rwindow2_mean  res_vector_rwindow2_std  \\\n",
       "1               0.43339                  10.75119                  1.32861   \n",
       "2               0.83792                  10.72255                  1.28812   \n",
       "3               0.10592                  12.40871                  1.09647   \n",
       "4               0.73200                  12.17564                  1.42608   \n",
       "5               1.35793                   9.30829                  2.62897   \n",
       "\n",
       "   time_step_diff_rwindow2_mean  time_step_diff_rwindow2_std  \n",
       "1                      53.70500                     75.90791  \n",
       "2                       0.03000                      0.00000  \n",
       "3                       0.03000                      0.00000  \n",
       "4                       0.03000                      0.00000  \n",
       "5                       0.03000                      0.00000  "
      ]
     },
     "execution_count": 27,
     "metadata": {},
     "output_type": "execute_result"
    }
   ],
   "source": [
    "w2_test_df.head()"
   ]
  },
  {
   "cell_type": "code",
   "execution_count": 28,
   "metadata": {},
   "outputs": [
    {
     "data": {
      "text/plain": [
       "Index(['time_step', 'x_accel', 'y_accel', 'z_accel', 'user_id',\n",
       "       'prev_time_step', 'time_step_diff', 'res_vector', 'x_accel_lag1',\n",
       "       'x_accel_lag2', 'x_accel_lag3', 'x_accel_lag4', 'x_accel_lag5',\n",
       "       'x_accel_lag6', 'x_accel_lag7', 'x_accel_lag8', 'x_accel_lag9',\n",
       "       'y_accel_lag1', 'y_accel_lag2', 'y_accel_lag3', 'y_accel_lag4',\n",
       "       'y_accel_lag5', 'y_accel_lag6', 'y_accel_lag7', 'y_accel_lag8',\n",
       "       'y_accel_lag9', 'z_accel_lag1', 'z_accel_lag2', 'z_accel_lag3',\n",
       "       'z_accel_lag4', 'z_accel_lag5', 'z_accel_lag6', 'z_accel_lag7',\n",
       "       'z_accel_lag8', 'z_accel_lag9', 'res_vector_lag1', 'res_vector_lag2',\n",
       "       'res_vector_lag3', 'res_vector_lag4', 'res_vector_lag5',\n",
       "       'res_vector_lag6', 'res_vector_lag7', 'res_vector_lag8',\n",
       "       'res_vector_lag9', 'x_accel_rwindow10_mean', 'x_accel_rwindow10_std',\n",
       "       'y_accel_rwindow10_mean', 'y_accel_rwindow10_std',\n",
       "       'z_accel_rwindow10_mean', 'z_accel_rwindow10_std',\n",
       "       'res_vector_rwindow10_mean', 'res_vector_rwindow10_std',\n",
       "       'time_step_diff_rwindow10_mean', 'time_step_diff_rwindow10_std'],\n",
       "      dtype='object')"
      ]
     },
     "execution_count": 28,
     "metadata": {},
     "output_type": "execute_result"
    }
   ],
   "source": [
    "w10_train_df.columns"
   ]
  },
  {
   "cell_type": "markdown",
   "metadata": {},
   "source": [
    "### Modeling and Evaluation"
   ]
  },
  {
   "cell_type": "markdown",
   "metadata": {},
   "source": [
    "Remove time_step and previous time_step, since we don't want our model to rely at all on those values.\n",
    "\n",
    "For simple MVP, we can start with default parameters and randomforest classifier only.\n",
    "\n",
    "Later on it would be easier to add in GridSearchCV and different models."
   ]
  },
  {
   "cell_type": "markdown",
   "metadata": {},
   "source": [
    "#### Basic Modeling"
   ]
  },
  {
   "cell_type": "code",
   "execution_count": 29,
   "metadata": {},
   "outputs": [],
   "source": [
    "def train_classifier_evaluate(train_df, test_df, y_col, clf, test_split_perc=0.3):\n",
    "    X_train = train_df.copy()\n",
    "    del X_train[\"user_id\"]\n",
    "    del X_train[\"time_step\"]\n",
    "    del X_train[\"prev_time_step\"]\n",
    "    y_train = train_df[y_col]\n",
    "\n",
    "    X_test = test_df.copy()\n",
    "    del X_test[\"user_id\"]\n",
    "    del X_test[\"time_step\"]\n",
    "    del X_test[\"prev_time_step\"]\n",
    "    y_test = test_df[y_col]\n",
    "\n",
    "    clf.fit(X_train, y_train)\n",
    "\n",
    "    train_predictions = clf.predict(X_train)\n",
    "    print(\"train accuracy: {0}\".format(accuracy_score(y_train, train_predictions)))\n",
    "    test_predictions = clf.predict(X_test)\n",
    "    print(\"test accuracy: {0}\".format(accuracy_score(y_test, test_predictions)))\n",
    "\n",
    "    return clf, X_train, X_test, y_train, y_test"
   ]
  },
  {
   "cell_type": "code",
   "execution_count": 30,
   "metadata": {},
   "outputs": [],
   "source": [
    "def plot_feature_importance(clf, feature_names):\n",
    "    # from https://scikit-learn.org/stable/auto_examples/ensemble/plot_forest_importances.html\n",
    "\n",
    "    importances = clf.feature_importances_\n",
    "    std = np.std([tree.feature_importances_ for tree in clf.estimators_], axis=0)\n",
    "    forest_importances = pd.Series(importances, index=feature_names)\n",
    "    fig, ax = plt.subplots()\n",
    "    forest_importances.plot.bar(yerr=std, ax=ax)\n",
    "    ax.set_title(\"Feature importances using MDI\")\n",
    "    ax.set_ylabel(\"Mean decrease in impurity\")\n",
    "    fig.tight_layout()"
   ]
  },
  {
   "cell_type": "markdown",
   "metadata": {},
   "source": [
    "### One vs Rest classifier"
   ]
  },
  {
   "cell_type": "code",
   "execution_count": 31,
   "metadata": {},
   "outputs": [
    {
     "name": "stdout",
     "output_type": "stream",
     "text": [
      "train accuracy: 1.0\n",
      "test accuracy: 0.5628447154836106\n"
     ]
    }
   ],
   "source": [
    "from sklearn.multiclass import OneVsRestClassifier\n",
    "\n",
    "w10_clf, w10_X_train, w10_X_test, w10_y_train, w10_y_test = train_classifier_evaluate(\n",
    "    w10_train_df, w10_test_df, \"user_id\", OneVsRestClassifier(RandomForestClassifier(random_state=0))\n",
    ")"
   ]
  },
  {
   "cell_type": "code",
   "execution_count": 32,
   "metadata": {},
   "outputs": [
    {
     "name": "stdout",
     "output_type": "stream",
     "text": [
      "train accuracy: 1.0\n",
      "test accuracy: 0.5589211246132461\n"
     ]
    }
   ],
   "source": [
    "w10_clf, w10_X_train, w10_X_test, w10_y_train, w10_y_test = train_classifier_evaluate(\n",
    "    w10_train_df, w10_test_df, \"user_id\", RandomForestClassifier(random_state=0)\n",
    ")"
   ]
  },
  {
   "cell_type": "markdown",
   "metadata": {},
   "source": [
    "So one vs all did not help accuracy"
   ]
  },
  {
   "cell_type": "code",
   "execution_count": null,
   "metadata": {},
   "outputs": [],
   "source": []
  }
 ],
 "metadata": {
  "kernelspec": {
   "display_name": "py3dev_v2",
   "language": "python",
   "name": "py3dev_v2"
  },
  "language_info": {
   "codemirror_mode": {
    "name": "ipython",
    "version": 3
   },
   "file_extension": ".py",
   "mimetype": "text/x-python",
   "name": "python",
   "nbconvert_exporter": "python",
   "pygments_lexer": "ipython3",
   "version": "3.6.2"
  },
  "widgets": {
   "application/vnd.jupyter.widget-state+json": {
    "state": {},
    "version_major": 2,
    "version_minor": 0
   }
  }
 },
 "nbformat": 4,
 "nbformat_minor": 4
}
